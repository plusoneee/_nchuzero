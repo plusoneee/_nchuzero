{
 "cells": [
  {
   "cell_type": "markdown",
   "metadata": {},
   "source": [
    "## Linear Regression\n",
    "### Simple Linear Regression Basic\n",
    "* Allow us to understand relaionship between two continous variables\n",
    "\n",
    "$$ y = ax + b $$\n",
    "\n",
    "Where `x` is independent variable and `y` is dependent variable. "
   ]
  },
  {
   "cell_type": "markdown",
   "metadata": {},
   "source": [
    "#### Aim of Linear Regression\n",
    "* Minimize the distance between the points and the line $(y=ax+b)$ \n",
    "* Adjusting:\n",
    "    1. Coefficents: $a$\n",
    "    2. Bias/Intercept: $b$"
   ]
  },
  {
   "cell_type": "markdown",
   "metadata": {},
   "source": [
    "### Building a Linear Regression Model"
   ]
  },
  {
   "cell_type": "code",
   "execution_count": 45,
   "metadata": {},
   "outputs": [],
   "source": [
    "import numpy as np"
   ]
  },
  {
   "cell_type": "code",
   "execution_count": 46,
   "metadata": {},
   "outputs": [
    {
     "data": {
      "text/plain": [
       "[0, 1, 2, 3, 4, 5, 6, 7, 8, 9, 10]"
      ]
     },
     "execution_count": 46,
     "metadata": {},
     "output_type": "execute_result"
    }
   ],
   "source": [
    "# Building a Toy Dataset\n",
    "x_values = [i for i in range(11)]\n",
    "x_values"
   ]
  },
  {
   "cell_type": "code",
   "execution_count": 47,
   "metadata": {},
   "outputs": [
    {
     "data": {
      "text/plain": [
       "(11,)"
      ]
     },
     "execution_count": 47,
     "metadata": {},
     "output_type": "execute_result"
    }
   ],
   "source": [
    "x_train = np.array(x_values, dtype=np.float32)\n",
    "x_train.shape"
   ]
  },
  {
   "cell_type": "code",
   "execution_count": 48,
   "metadata": {},
   "outputs": [
    {
     "data": {
      "text/plain": [
       "(11, 1)"
      ]
     },
     "execution_count": 48,
     "metadata": {},
     "output_type": "execute_result"
    }
   ],
   "source": [
    "# IMPORTANTL: 2D required\n",
    "x_train = x_train.reshape(-1, 1)\n",
    "x_train.shape"
   ]
  },
  {
   "cell_type": "code",
   "execution_count": 49,
   "metadata": {},
   "outputs": [
    {
     "data": {
      "text/plain": [
       "[1, 3, 5, 7, 9, 11, 13, 15, 17, 19, 21]"
      ]
     },
     "execution_count": 49,
     "metadata": {},
     "output_type": "execute_result"
    }
   ],
   "source": [
    "# y = 2x +1\n",
    "y_values = [2*i+1 for i in x_values]\n",
    "y_values"
   ]
  },
  {
   "cell_type": "code",
   "execution_count": 50,
   "metadata": {},
   "outputs": [
    {
     "data": {
      "text/plain": [
       "(11,)"
      ]
     },
     "execution_count": 50,
     "metadata": {},
     "output_type": "execute_result"
    }
   ],
   "source": [
    "y_train = np.array(y_values, dtype=np.float32)\n",
    "y_train.shape"
   ]
  },
  {
   "cell_type": "code",
   "execution_count": 51,
   "metadata": {},
   "outputs": [
    {
     "data": {
      "text/plain": [
       "(11, 1)"
      ]
     },
     "execution_count": 51,
     "metadata": {},
     "output_type": "execute_result"
    }
   ],
   "source": [
    "# IMPORTANTL: 2D required\n",
    "y_train = y_train.reshape(-1, 1)\n",
    "y_train.shape"
   ]
  },
  {
   "cell_type": "markdown",
   "metadata": {},
   "source": [
    "#### Build Model"
   ]
  },
  {
   "cell_type": "code",
   "execution_count": 52,
   "metadata": {},
   "outputs": [],
   "source": [
    "import torch\n",
    "import torch.nn as nn"
   ]
  },
  {
   "cell_type": "markdown",
   "metadata": {},
   "source": [
    "1. Linear model: \n",
    "    * True Equation: $y = 2x + 1$\n",
    "2 Forward\n",
    "    * Example: \n",
    "        * Input $x = 1$\n",
    "        * Output $\\hat{y} = ?$"
   ]
  },
  {
   "cell_type": "code",
   "execution_count": 53,
   "metadata": {},
   "outputs": [],
   "source": [
    "# Create Class\n",
    "\n",
    "class LinearRegressionModel(nn.Module):\n",
    "    def __init__(self, input_size, output_size):\n",
    "        super(LinearRegressionModel, self).__init__() # inherits nn \n",
    "        self.linear = nn.Linear(input_dim, output_dim) # input_dim is x, output_dim is y\n",
    "    \n",
    "    def forward(self, x):\n",
    "        out = self.linear(x)\n",
    "        return out"
   ]
  },
  {
   "cell_type": "markdown",
   "metadata": {},
   "source": [
    "#### Instantiate Model Class\n",
    "* Input: [0, 1, 2, 3, 4, 5, 6, 7, 8, 9]\n",
    "* Dessired Output: [1, 3, 5,7, 9, 11, 13, 15, 17, 19, 21]"
   ]
  },
  {
   "cell_type": "code",
   "execution_count": 54,
   "metadata": {},
   "outputs": [],
   "source": [
    "input_dim = 1\n",
    "output_dim = 1\n",
    "model = LinearRegressionModel(input_dim, output_dim)"
   ]
  },
  {
   "cell_type": "markdown",
   "metadata": {},
   "source": [
    "#### Instantiate Loss Class\n",
    "* MSE Loss: Meean Square Error\n",
    "\n",
    "$$ \\frac{1}{n}\\sum{n}{i=1}(\\hat{y_i}-y_i) $$\n",
    "\n",
    "Where $\\hat{y}$ is prediction and $y$ is true value."
   ]
  },
  {
   "cell_type": "code",
   "execution_count": 55,
   "metadata": {},
   "outputs": [],
   "source": [
    "criterion = nn.MSELoss()"
   ]
  },
  {
   "cell_type": "markdown",
   "metadata": {},
   "source": [
    "#### Instantiate Optimizer Class"
   ]
  },
  {
   "cell_type": "code",
   "execution_count": 56,
   "metadata": {},
   "outputs": [],
   "source": [
    "learning_rate = 0.01\n",
    "optimizer = torch.optim.SGD(model.parameters(), lr=learning_rate)"
   ]
  },
  {
   "cell_type": "code",
   "execution_count": 57,
   "metadata": {},
   "outputs": [
    {
     "name": "stdout",
     "output_type": "stream",
     "text": [
      "epoch 1, loss 186.96054077148438\n",
      "epoch 2, loss 15.32177448272705\n",
      "epoch 3, loss 1.3209367990493774\n",
      "epoch 4, loss 0.17813843488693237\n",
      "epoch 5, loss 0.08413803577423096\n",
      "epoch 6, loss 0.07569334656000137\n",
      "epoch 7, loss 0.07423590868711472\n",
      "epoch 8, loss 0.073356993496418\n",
      "epoch 9, loss 0.0725337341427803\n",
      "epoch 10, loss 0.07172360271215439\n",
      "epoch 11, loss 0.07092259079217911\n",
      "epoch 12, loss 0.07013057917356491\n",
      "epoch 13, loss 0.06934747844934464\n",
      "epoch 14, loss 0.06857305020093918\n",
      "epoch 15, loss 0.06780726462602615\n",
      "epoch 16, loss 0.06705009937286377\n",
      "epoch 17, loss 0.06630133092403412\n",
      "epoch 18, loss 0.0655609592795372\n",
      "epoch 19, loss 0.06482881307601929\n",
      "epoch 20, loss 0.06410495936870575\n",
      "epoch 21, loss 0.06338899582624435\n",
      "epoch 22, loss 0.06268119066953659\n",
      "epoch 23, loss 0.06198115646839142\n",
      "epoch 24, loss 0.06128912791609764\n",
      "epoch 25, loss 0.06060469150543213\n",
      "epoch 26, loss 0.059927985072135925\n",
      "epoch 27, loss 0.05925868824124336\n",
      "epoch 28, loss 0.05859703943133354\n",
      "epoch 29, loss 0.05794261768460274\n",
      "epoch 30, loss 0.05729565769433975\n",
      "epoch 31, loss 0.05665593221783638\n",
      "epoch 32, loss 0.05602317675948143\n",
      "epoch 33, loss 0.05539743974804878\n",
      "epoch 34, loss 0.05477889999747276\n",
      "epoch 35, loss 0.054167233407497406\n",
      "epoch 36, loss 0.053562287241220474\n",
      "epoch 37, loss 0.0529642216861248\n",
      "epoch 38, loss 0.05237279832363129\n",
      "epoch 39, loss 0.05178794637322426\n",
      "epoch 40, loss 0.051209546625614166\n",
      "epoch 41, loss 0.050637733191251755\n",
      "epoch 42, loss 0.050072286278009415\n",
      "epoch 43, loss 0.04951319843530655\n",
      "epoch 44, loss 0.04896029084920883\n",
      "epoch 45, loss 0.04841354116797447\n",
      "epoch 46, loss 0.047872863709926605\n",
      "epoch 47, loss 0.047338344156742096\n",
      "epoch 48, loss 0.046809613704681396\n",
      "epoch 49, loss 0.04628690704703331\n",
      "epoch 50, loss 0.04577012360095978\n",
      "epoch 51, loss 0.0452590249478817\n",
      "epoch 52, loss 0.04475358501076698\n",
      "epoch 53, loss 0.04425385966897011\n",
      "epoch 54, loss 0.04375967010855675\n",
      "epoch 55, loss 0.04327104613184929\n",
      "epoch 56, loss 0.0427878201007843\n",
      "epoch 57, loss 0.0423099659383297\n",
      "epoch 58, loss 0.041837457567453384\n",
      "epoch 59, loss 0.041370414197444916\n",
      "epoch 60, loss 0.04090843349695206\n",
      "epoch 61, loss 0.04045149311423302\n",
      "epoch 62, loss 0.0399998314678669\n",
      "epoch 63, loss 0.0395531952381134\n",
      "epoch 64, loss 0.03911142796278\n",
      "epoch 65, loss 0.03867467865347862\n",
      "epoch 66, loss 0.03824282065033913\n",
      "epoch 67, loss 0.03781580179929733\n",
      "epoch 68, loss 0.037393465638160706\n",
      "epoch 69, loss 0.0369759202003479\n",
      "epoch 70, loss 0.03656302019953728\n",
      "epoch 71, loss 0.03615475445985794\n",
      "epoch 72, loss 0.03575100004673004\n",
      "epoch 73, loss 0.03535171225667\n",
      "epoch 74, loss 0.034957025200128555\n",
      "epoch 75, loss 0.034566737711429596\n",
      "epoch 76, loss 0.034180644899606705\n",
      "epoch 77, loss 0.03379901126027107\n",
      "epoch 78, loss 0.03342152759432793\n",
      "epoch 79, loss 0.03304831683635712\n",
      "epoch 80, loss 0.03267933428287506\n",
      "epoch 81, loss 0.03231430798768997\n",
      "epoch 82, loss 0.03195345774292946\n",
      "epoch 83, loss 0.03159666433930397\n",
      "epoch 84, loss 0.031243853271007538\n",
      "epoch 85, loss 0.030894996598362923\n",
      "epoch 86, loss 0.03055000491440296\n",
      "epoch 87, loss 0.030208785086870193\n",
      "epoch 88, loss 0.02987145259976387\n",
      "epoch 89, loss 0.0295378677546978\n",
      "epoch 90, loss 0.029208047315478325\n",
      "epoch 91, loss 0.028881965205073357\n",
      "epoch 92, loss 0.02855938859283924\n",
      "epoch 93, loss 0.028240449726581573\n",
      "epoch 94, loss 0.027925128117203712\n",
      "epoch 95, loss 0.027613205835223198\n",
      "epoch 96, loss 0.027304958552122116\n",
      "epoch 97, loss 0.0269999448210001\n",
      "epoch 98, loss 0.026698501780629158\n",
      "epoch 99, loss 0.02640039287507534\n",
      "epoch 100, loss 0.026105521246790886\n"
     ]
    }
   ],
   "source": [
    "epochs = 100\n",
    "for epoch in range(epochs):\n",
    "    epoch += 1\n",
    "    \n",
    "    inputs = torch.from_numpy(x_train)\n",
    "    labels = torch.from_numpy(y_train)\n",
    "    \n",
    "    # clear gradients w.r.t. parameters\n",
    "    optimizer.zero_grad()\n",
    "    \n",
    "    # forward to get output\n",
    "    outputs = model(inputs) # output is y and inputs in x\n",
    "    \n",
    "    # calculate loss\n",
    "    loss = criterion(outputs, labels)\n",
    "    \n",
    "    # getting gradients w.r.t. parameters\n",
    "    loss.backward()\n",
    "    \n",
    "    # updating parameters\n",
    "    optimizer.step()\n",
    "    \n",
    "    print('epoch {}, loss {}'.format(epoch, loss.data))"
   ]
  },
  {
   "cell_type": "markdown",
   "metadata": {},
   "source": [
    "#### Compare Data"
   ]
  },
  {
   "cell_type": "code",
   "execution_count": 58,
   "metadata": {},
   "outputs": [],
   "source": [
    "predicted = model(torch.from_numpy(x_train)).data.numpy()"
   ]
  },
  {
   "cell_type": "code",
   "execution_count": 59,
   "metadata": {},
   "outputs": [
    {
     "data": {
      "text/plain": [
       "array([[ 0.699443 ],\n",
       "       [ 2.7427258],\n",
       "       [ 4.786009 ],\n",
       "       [ 6.829292 ],\n",
       "       [ 8.872575 ],\n",
       "       [10.915858 ],\n",
       "       [12.959141 ],\n",
       "       [15.002423 ],\n",
       "       [17.045708 ],\n",
       "       [19.088991 ],\n",
       "       [21.132275 ]], dtype=float32)"
      ]
     },
     "execution_count": 59,
     "metadata": {},
     "output_type": "execute_result"
    }
   ],
   "source": [
    "predicted"
   ]
  },
  {
   "cell_type": "code",
   "execution_count": 60,
   "metadata": {},
   "outputs": [
    {
     "data": {
      "text/plain": [
       "array([[ 1.],\n",
       "       [ 3.],\n",
       "       [ 5.],\n",
       "       [ 7.],\n",
       "       [ 9.],\n",
       "       [11.],\n",
       "       [13.],\n",
       "       [15.],\n",
       "       [17.],\n",
       "       [19.],\n",
       "       [21.]], dtype=float32)"
      ]
     },
     "execution_count": 60,
     "metadata": {},
     "output_type": "execute_result"
    }
   ],
   "source": [
    "y_train"
   ]
  },
  {
   "cell_type": "markdown",
   "metadata": {},
   "source": [
    "#### Plot Graph"
   ]
  },
  {
   "cell_type": "code",
   "execution_count": 61,
   "metadata": {},
   "outputs": [
    {
     "data": {
      "image/png": "[encoded data removed]",
      "text/plain": [
       "<Figure size 432x288 with 1 Axes>"
      ]
     },
     "metadata": {
      "needs_background": "light"
     },
     "output_type": "display_data"
    }
   ],
   "source": [
    "import matplotlib.pyplot as plt\n",
    "\n",
    "# clear figure\n",
    "plt.clf()\n",
    "\n",
    "# get predictions\n",
    "predicted = model(torch.from_numpy(x_train)).data.numpy()\n",
    "\n",
    "# plat true data\n",
    "plt.plot(x_train, y_train, 'go', label='True Data', alpha=0.5)\n",
    "\n",
    "# plat true data\n",
    "plt.plot(x_train, predicted, '--', label='True Data', alpha=0.5)\n",
    "\n",
    "# legend and plot\n",
    "plt.legend(loc='best')\n",
    "plt.show()"
   ]
  },
  {
   "cell_type": "markdown",
   "metadata": {},
   "source": [
    "#### Save Model"
   ]
  },
  {
   "cell_type": "code",
   "execution_count": 62,
   "metadata": {},
   "outputs": [],
   "source": [
    "save_model = True\n",
    "if save_model:\n",
    "    # Save only parameters\n",
    "    torch.save(model.state_dict(), 'lr_model.pkl')"
   ]
  },
  {
   "cell_type": "markdown",
   "metadata": {},
   "source": [
    "#### Load Model"
   ]
  },
  {
   "cell_type": "code",
   "execution_count": 63,
   "metadata": {},
   "outputs": [],
   "source": [
    "load_model = True\n",
    "if load_model is True:\n",
    "    model.load_state_dict(torch.load('lr_model.pkl'))"
   ]
  }
 ],
 "metadata": {
  "kernelspec": {
   "display_name": "Python 3",
   "language": "python",
   "name": "python3"
  },
  "language_info": {
   "codemirror_mode": {
    "name": "ipython",
    "version": 3
   },
   "file_extension": ".py",
   "mimetype": "text/x-python",
   "name": "python",
   "nbconvert_exporter": "python",
   "pygments_lexer": "ipython3",
   "version": "3.7.4"
  }
 },
 "nbformat": 4,
 "nbformat_minor": 4
}

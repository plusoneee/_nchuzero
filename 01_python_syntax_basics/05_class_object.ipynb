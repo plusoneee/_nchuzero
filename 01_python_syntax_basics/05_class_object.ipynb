{
 "cells": [
  {
   "cell_type": "markdown",
   "metadata": {},
   "source": [
    "## Classe & Object\n",
    "* Objects are an encapsulation of variables and functions into a entity.\n",
    "* Classes are essentially a template to create objects."
   ]
  },
  {
   "cell_type": "code",
   "execution_count": 1,
   "metadata": {},
   "outputs": [],
   "source": [
    "class MyClass:\n",
    "    variable = \"my_variable\"\n",
    "\n",
    "    def function(self):\n",
    "        print(\"This is a function inside the class.\")"
   ]
  },
  {
   "cell_type": "markdown",
   "metadata": {},
   "source": [
    "* Assign the class to an object:"
   ]
  },
  {
   "cell_type": "code",
   "execution_count": 2,
   "metadata": {},
   "outputs": [],
   "source": [
    "myObject = MyClass()"
   ]
  },
  {
   "cell_type": "markdown",
   "metadata": {},
   "source": [
    "* Access Object Variables:"
   ]
  },
  {
   "cell_type": "code",
   "execution_count": 3,
   "metadata": {},
   "outputs": [
    {
     "data": {
      "text/plain": [
       "'my_variable'"
      ]
     },
     "execution_count": 3,
     "metadata": {},
     "output_type": "execute_result"
    }
   ],
   "source": [
    "myObject.variable"
   ]
  },
  {
   "cell_type": "markdown",
   "metadata": {},
   "source": [
    "* Create multiple different objects from the same class."
   ]
  },
  {
   "cell_type": "code",
   "execution_count": 4,
   "metadata": {},
   "outputs": [],
   "source": [
    "myObject_01 = MyClass()\n",
    "myObject_02 = MyClass()"
   ]
  },
  {
   "cell_type": "markdown",
   "metadata": {},
   "source": [
    "* Assign a new vlaue to the variable:"
   ]
  },
  {
   "cell_type": "code",
   "execution_count": 5,
   "metadata": {},
   "outputs": [],
   "source": [
    "myObject_01.variable = \"updated_variable\""
   ]
  },
  {
   "cell_type": "code",
   "execution_count": 6,
   "metadata": {},
   "outputs": [
    {
     "name": "stdout",
     "output_type": "stream",
     "text": [
      "updated_variable\n",
      "my_variable\n"
     ]
    }
   ],
   "source": [
    "# Then print out both values\n",
    "print(myObject_01.variable)\n",
    "print(myObject_02.variable)"
   ]
  },
  {
   "cell_type": "markdown",
   "metadata": {},
   "source": [
    "* Accessing the function:"
   ]
  },
  {
   "cell_type": "code",
   "execution_count": 7,
   "metadata": {},
   "outputs": [
    {
     "name": "stdout",
     "output_type": "stream",
     "text": [
      "This is a function inside the class.\n"
     ]
    }
   ],
   "source": [
    "class MyClass:\n",
    "    variable = \"my_variable\"\n",
    "\n",
    "    def function(self):\n",
    "        print(\"This is a function inside the class.\")\n",
    "\n",
    "myObject = MyClass()\n",
    "myObject.function()"
   ]
  },
  {
   "cell_type": "code",
   "execution_count": 8,
   "metadata": {},
   "outputs": [],
   "source": [
    "class Student:\n",
    "    studentId = '01'\n",
    "    last_name = 'Liao'\n",
    "    first_name = 'Joy'\n",
    "    \n",
    "    def description(self):\n",
    "        desc_str = \"{first_name}, {last_name} is a student.\\\n",
    "                    Id is {studentId}.\".format(first_name=self.first_name,\n",
    "                                               last_name=self.last_name, \n",
    "                                               studentId=self.studentId)\n",
    "        return desc_str"
   ]
  },
  {
   "cell_type": "code",
   "execution_count": 9,
   "metadata": {},
   "outputs": [
    {
     "data": {
      "text/plain": [
       "'Joy, Liao is a student.                    Id is 01.'"
      ]
     },
     "execution_count": 9,
     "metadata": {},
     "output_type": "execute_result"
    }
   ],
   "source": [
    "joy = Student()\n",
    "joy.description()"
   ]
  }
 ],
 "metadata": {
  "kernelspec": {
   "display_name": "Python 3",
   "language": "python",
   "name": "python3"
  },
  "language_info": {
   "codemirror_mode": {
    "name": "ipython",
    "version": 3
   },
   "file_extension": ".py",
   "mimetype": "text/x-python",
   "name": "python",
   "nbconvert_exporter": "python",
   "pygments_lexer": "ipython3",
   "version": "3.7.4"
  }
 },
 "nbformat": 4,
 "nbformat_minor": 4
}

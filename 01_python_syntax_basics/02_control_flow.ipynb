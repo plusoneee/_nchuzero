{
 "cells": [
  {
   "cell_type": "markdown",
   "metadata": {},
   "source": [
    "## Conditions"
   ]
  },
  {
   "cell_type": "code",
   "execution_count": 1,
   "metadata": {},
   "outputs": [
    {
     "name": "stdout",
     "output_type": "stream",
     "text": [
      "True\n",
      "False\n"
     ]
    }
   ],
   "source": [
    "some_str = 'Hello World'\n",
    "print(some_str == 'Hello World')\n",
    "print(some_str != 'Hello World')"
   ]
  },
  {
   "cell_type": "code",
   "execution_count": 2,
   "metadata": {},
   "outputs": [
    {
     "name": "stdout",
     "output_type": "stream",
     "text": [
      "Same String\n"
     ]
    }
   ],
   "source": [
    "some_str = 'Hello World'\n",
    "if some_str == 'Hello World':\n",
    "    print('Same String')\n",
    "else:\n",
    "    print('String Not Equal')"
   ]
  },
  {
   "cell_type": "markdown",
   "metadata": {},
   "source": [
    "## Boolean Operators\n",
    "The `and` and `or` boolean operators allow building complex boolean expressions."
   ]
  },
  {
   "cell_type": "code",
   "execution_count": 3,
   "metadata": {},
   "outputs": [
    {
     "name": "stdout",
     "output_type": "stream",
     "text": [
      "She is Joy.\n"
     ]
    }
   ],
   "source": [
    "name = 'Joy'\n",
    "gender = 'girl'\n",
    "isJoy = (name == \"Joy\")\n",
    "isGirl = (gender == 'girl')\n",
    "if isJoy and isGirl :\n",
    "    print(\"She is Joy.\")"
   ]
  },
  {
   "cell_type": "markdown",
   "metadata": {},
   "source": [
    "## Operators\n",
    "Unlike the double equals operator `==`, the `in` operator could be used to check if a specified object exists within a list."
   ]
  },
  {
   "cell_type": "code",
   "execution_count": 4,
   "metadata": {},
   "outputs": [
    {
     "name": "stdout",
     "output_type": "stream",
     "text": [
      "Joy is a student in this school.\n"
     ]
    }
   ],
   "source": [
    "name = \"Joy\"\n",
    "students = [\"Joy\", \"Amy\"]\n",
    "if name in students:\n",
    "    print(\"{} is a student in this school.\".format(name))"
   ]
  },
  {
   "cell_type": "markdown",
   "metadata": {},
   "source": [
    "The `is` operator does not match the values of the variables, but the instances themselves."
   ]
  },
  {
   "cell_type": "code",
   "execution_count": 5,
   "metadata": {},
   "outputs": [
    {
     "name": "stdout",
     "output_type": "stream",
     "text": [
      "True\n",
      "False\n"
     ]
    }
   ],
   "source": [
    "print([1,2,3] == [1,2,3]) \n",
    "print([1,2,3] is [1,2,3])"
   ]
  },
  {
   "cell_type": "markdown",
   "metadata": {},
   "source": [
    "Using the `not` operator before a boolean expression inverts it."
   ]
  },
  {
   "cell_type": "code",
   "execution_count": 6,
   "metadata": {},
   "outputs": [
    {
     "name": "stdout",
     "output_type": "stream",
     "text": [
      "He is Jack.\n"
     ]
    }
   ],
   "source": [
    "name = 'Jack'\n",
    "gender = 'boy'\n",
    "isGirl = (gender == 'girl')\n",
    "if isGirl :\n",
    "    print(\"She is Joy.\")\n",
    "else:\n",
    "    print(\"He is {}.\".format(name))"
   ]
  }
 ],
 "metadata": {
  "kernelspec": {
   "display_name": "Python 3",
   "language": "python",
   "name": "python3"
  },
  "language_info": {
   "codemirror_mode": {
    "name": "ipython",
    "version": 3
   },
   "file_extension": ".py",
   "mimetype": "text/x-python",
   "name": "python",
   "nbconvert_exporter": "python",
   "pygments_lexer": "ipython3",
   "version": "3.7.4"
  }
 },
 "nbformat": 4,
 "nbformat_minor": 4
}

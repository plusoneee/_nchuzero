{
 "cells": [
  {
   "cell_type": "markdown",
   "metadata": {},
   "source": [
    "## Hello World"
   ]
  },
  {
   "cell_type": "code",
   "execution_count": 1,
   "metadata": {},
   "outputs": [
    {
     "name": "stdout",
     "output_type": "stream",
     "text": [
      "Hello World\n"
     ]
    }
   ],
   "source": [
    "print('Hello World')"
   ]
  },
  {
   "cell_type": "markdown",
   "metadata": {},
   "source": [
    "## String Operations"
   ]
  },
  {
   "cell_type": "code",
   "execution_count": 2,
   "metadata": {},
   "outputs": [
    {
     "data": {
      "text/plain": [
       "12"
      ]
     },
     "execution_count": 2,
     "metadata": {},
     "output_type": "execute_result"
    }
   ],
   "source": [
    "# len()\n",
    "hello_world_str = \"Hello world!\"\n",
    "len(hello_world_str)"
   ]
  },
  {
   "cell_type": "code",
   "execution_count": 3,
   "metadata": {},
   "outputs": [
    {
     "name": "stdout",
     "output_type": "stream",
     "text": [
      "- Index of H: 0\n",
      "- Index of W: 6\n"
     ]
    }
   ],
   "source": [
    "# index()\n",
    "hello_world_str = \"Hello World!\"\n",
    "print('- Index of H:', hello_world_str.index(\"H\")) # 0\n",
    "print('- Index of W:', hello_world_str.index(\"W\")) # 6"
   ]
  },
  {
   "cell_type": "code",
   "execution_count": 4,
   "metadata": {},
   "outputs": [
    {
     "name": "stdout",
     "output_type": "stream",
     "text": [
      "- l count: 3\n",
      "- w count: 1\n",
      "- h count: 0\n"
     ]
    }
   ],
   "source": [
    "# count()\n",
    "hello_world_str = \"Hello world!\"\n",
    "print('- l count:', hello_world_str.count('l'))\n",
    "print('- w count:', hello_world_str.count('w'))\n",
    "print('- h count:', hello_world_str.count('h'))"
   ]
  },
  {
   "cell_type": "code",
   "execution_count": 5,
   "metadata": {},
   "outputs": [
    {
     "name": "stdout",
     "output_type": "stream",
     "text": [
      "- hello_word_str[0:5]: Hello\n",
      "- hello_word_str[6:]: world!\n",
      "- hello_word_str[6:]: world\n",
      "- hello_word_str[1:7:2]: Hlow\n"
     ]
    }
   ],
   "source": [
    "# slice of the string\n",
    "hello_world_str = \"Hello world!\"\n",
    "print('- hello_word_str[0:5]:', hello_world_str[0:5])\n",
    "print('- hello_word_str[6:]:', hello_world_str[6:])\n",
    "print('- hello_word_str[6:]:', hello_world_str[6:11])\n",
    "print('- hello_word_str[1:7:2]:', hello_world_str[0:7:2])"
   ]
  },
  {
   "cell_type": "code",
   "execution_count": 6,
   "metadata": {},
   "outputs": [
    {
     "name": "stdout",
     "output_type": "stream",
     "text": [
      "- upper(): HELLO WORLD!\n",
      "- lower(): hello world!\n",
      "- title(): Hello World!\n"
     ]
    }
   ],
   "source": [
    "# upper(), lower() & title() \n",
    "hello_world_str = \"Hello world!\"\n",
    "print('- upper():', hello_world_str.upper())\n",
    "print('- lower():', hello_world_str.lower())\n",
    "print('- title():', hello_world_str.title())"
   ]
  },
  {
   "cell_type": "code",
   "execution_count": 7,
   "metadata": {},
   "outputs": [
    {
     "name": "stdout",
     "output_type": "stream",
     "text": [
      "- hello_world_str is start with `Hello`: True\n",
      "- hello_world_str is end with `XD`: False\n",
      "- hello_world_str is end with `!`: True\n"
     ]
    }
   ],
   "source": [
    "# startswith() & endswith()\n",
    "hello_world_str = \"Hello World!\"\n",
    "print('- hello_world_str is start with `Hello`:', hello_world_str.startswith(\"Hello\"))\n",
    "print('- hello_world_str is end with `XD`:', hello_world_str.endswith(\"XD\"))\n",
    "print('- hello_world_str is end with `!`:', hello_world_str.endswith(\"!\"))"
   ]
  },
  {
   "cell_type": "code",
   "execution_count": 8,
   "metadata": {},
   "outputs": [
    {
     "name": "stdout",
     "output_type": "stream",
     "text": [
      "['Hello', 'world!']\n"
     ]
    }
   ],
   "source": [
    "hello_world_str = \"Hello world!\"\n",
    "print(hello_world_str.split(\" \"))"
   ]
  }
 ],
 "metadata": {
  "kernelspec": {
   "display_name": "Python 3",
   "language": "python",
   "name": "python3"
  },
  "language_info": {
   "codemirror_mode": {
    "name": "ipython",
    "version": 3
   },
   "file_extension": ".py",
   "mimetype": "text/x-python",
   "name": "python",
   "nbconvert_exporter": "python",
   "pygments_lexer": "ipython3",
   "version": "3.7.4"
  }
 },
 "nbformat": 4,
 "nbformat_minor": 4
}
